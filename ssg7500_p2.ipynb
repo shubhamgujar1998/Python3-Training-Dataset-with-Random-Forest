{
 "cells": [
  {
   "cell_type": "code",
   "execution_count": 3,
   "metadata": {},
   "outputs": [],
   "source": [
    "import numpy as np\n",
    "import pandas as pd\n",
    "import matplotlib.pyplot as plt\n",
    "\n",
    "\n",
    "from IPython.display import display\n",
    "from sklearn.model_selection import train_test_split\n",
    "from sklearn.model_selection import cross_val_score\n",
    "from sklearn.ensemble import RandomForestClassifier\n",
    "from sklearn.tree import export_graphviz"
   ]
  },
  {
   "cell_type": "code",
   "execution_count": 4,
   "metadata": {},
   "outputs": [
    {
     "name": "stdout",
     "output_type": "stream",
     "text": [
      "['Player', 'Pos', 'Age', 'Tm', 'G', 'GS', 'MP', 'FG', 'FGA', 'FG%', '3P', '3PA', '3P%', '2P', '2PA', '2P%', 'eFG%', 'FT', 'FTA', 'FT%', 'ORB', 'DRB', 'TRB', 'AST', 'STL', 'BLK', 'TOV', 'PF', 'PS/G']\n",
      "         Player Pos  Age   Tm   G  GS    MP   FG  FGA    FG%  ...    FT%  ORB  \\\n",
      "0    Quincy Acy  PF   25  SAC  59  29  14.8  2.0  3.6  0.556  ...  0.735  1.1   \n",
      "1  Jordan Adams  SG   21  MEM   2   0   7.5  1.0  3.0  0.333  ...  0.600  0.0   \n",
      "2  Steven Adams   C   22  OKC  80  80  25.2  3.3  5.3  0.613  ...  0.582  2.7   \n",
      "\n",
      "   DRB  TRB  AST  STL  BLK  TOV   PF  PS/G  \n",
      "0  2.1  3.2  0.5  0.5  0.4  0.5  1.7   5.2  \n",
      "1  1.0  1.0  1.5  1.5  0.0  1.0  1.0   3.5  \n",
      "2  3.9  6.7  0.8  0.5  1.1  1.1  2.8   8.0  \n",
      "\n",
      "[3 rows x 29 columns]\n",
      "   Age   G  GS    MP   FG  FGA    FG%   3P  3PA    3P%  ...    FT%  ORB  DRB  \\\n",
      "0   25  59  29  14.8  2.0  3.6  0.556  0.3  0.8  0.388  ...  0.735  1.1  2.1   \n",
      "1   21   2   0   7.5  1.0  3.0  0.333  0.0  0.5  0.000  ...  0.600  0.0  1.0   \n",
      "2   22  80  80  25.2  3.3  5.3  0.613  0.0  0.0  0.000  ...  0.582  2.7  3.9   \n",
      "\n",
      "   TRB  AST  STL  BLK  TOV   PF  PS/G  \n",
      "0  3.2  0.5  0.5  0.4  0.5  1.7   5.2  \n",
      "1  1.0  1.5  1.5  0.0  1.0  1.0   3.5  \n",
      "2  6.7  0.8  0.5  1.1  1.1  2.8   8.0  \n",
      "\n",
      "[3 rows x 26 columns]\n",
      "['PF', 'SG', 'C']\n"
     ]
    }
   ],
   "source": [
    "#read from the csv file and return a Pandas DataFrame.\n",
    "nba = pd.read_csv('NBAstats.csv')\n",
    "\n",
    "# print the column names\n",
    "original_headers = list(nba.columns.values)\n",
    "print(original_headers)\n",
    "\n",
    "#print the first three rows.\n",
    "print(nba[0:3])\n",
    "\n",
    "# \"Position (pos)\" is the class attribute we are predicting. \n",
    "class_column = 'Pos'\n",
    "\n",
    "#The dataset contains attributes such as player name and team name. \n",
    "#We know that they are not useful for classification and thus do not \n",
    "#include them as features. \n",
    "# ORIGINAL DATASET\n",
    "feature_columns = ['Age', 'G', 'GS', 'MP', 'FG', 'FGA', 'FG%', '3P', '3PA', \\\n",
    "    '3P%', '2P', '2PA', '2P%', 'eFG%', 'FT', 'FTA', 'FT%', 'ORB', 'DRB', \\\n",
    "    'TRB', 'AST', 'STL', 'BLK', 'TOV', 'PF', 'PS/G']\n",
    "# feature_columns = ['G', 'GS', 'MP', 'FG%', '3PA', \\\n",
    "#     '3P%', '2PA', '2P%', 'eFG%', 'FT', 'FTA', 'FT%', 'ORB', 'DRB', \\\n",
    "#     'TRB', 'AST', 'STL', 'BLK', 'TOV', 'PF', 'PS/G']\n",
    "#Pandas DataFrame allows you to select columns. \n",
    "#We use column selection to split the data into features and class. \n",
    "nba_feature = nba[feature_columns]\n",
    "nba_class = nba[class_column]\n",
    "\n",
    "print(nba_feature[0:3])\n",
    "print(list(nba_class[0:3]))\n",
    "\n",
    "train_feature, test_feature, train_class, test_class = \\\n",
    "    train_test_split(nba_feature, nba_class, stratify=nba_class, \\\n",
    "    train_size=0.75, test_size=0.25)\n",
    "\n",
    "training_accuracy = []\n",
    "test_accuracy = []\n"
   ]
  },
  {
   "cell_type": "code",
   "execution_count": 5,
   "metadata": {},
   "outputs": [
    {
     "name": "stdout",
     "output_type": "stream",
     "text": [
      "Training set score: 1.000\n",
      "Random Forest Tree Classifier Test set score: 0.521\n"
     ]
    }
   ],
   "source": [
    "randomF = RandomForestClassifier().fit(train_feature, train_class)\n",
    "print(\"Training set score: {:.3f}\".format(randomF.score(train_feature, train_class)))\n",
    "print(\"Random Forest Tree Classifier Test set score: {:.3f}\".format(randomF.score(test_feature, test_class)))"
   ]
  },
  {
   "cell_type": "code",
   "execution_count": 6,
   "metadata": {},
   "outputs": [
    {
     "name": "stdout",
     "output_type": "stream",
     "text": [
      "Confusion matrix below:\n",
      "\n",
      "Predicted player position   C  PF  PG  SF  SG  All\n",
      "Player position                                   \n",
      "C                          16   4   0   2   0   22\n",
      "PF                          5  10   1   9   1   26\n",
      "PG                          0   2  17   2   3   24\n",
      "SF                          1   1   0   9  12   23\n",
      "SG                          0   0  10   4  10   24\n",
      "All                        22  17  28  26  26  119\n",
      "\n",
      "\n",
      "Cross-validation scores with 10-fold startified:\n",
      "[0.66666667 0.52083333 0.70833333 0.5625     0.58333333 0.5106383\n",
      " 0.65957447 0.65957447 0.55319149 0.61702128]\n",
      "\n",
      "Average cross-validation for Random Forest Classifier score: 0.60\n"
     ]
    }
   ],
   "source": [
    "prediction = randomF.predict(test_feature)\n",
    "print(\"Confusion matrix below:\\n\")\n",
    "print(pd.crosstab(test_class,prediction, rownames=['Player position'], colnames=['Predicted player position'],margins = 'True' ))\n",
    "print(\"\\n\")\n",
    "scores = cross_val_score(randomF, nba_feature, nba_class, cv=10)\n",
    "print(\"Cross-validation scores with 10-fold startified:\\n{}\".format(scores))\n",
    "print(\"\\nAverage cross-validation for Random Forest Classifier score: {:.2f}\".format(scores.mean()))"
   ]
  },
  {
   "cell_type": "code",
   "execution_count": null,
   "metadata": {},
   "outputs": [],
   "source": []
  }
 ],
 "metadata": {
  "kernelspec": {
   "display_name": "Python 3",
   "language": "python",
   "name": "python3"
  },
  "language_info": {
   "codemirror_mode": {
    "name": "ipython",
    "version": 3
   },
   "file_extension": ".py",
   "mimetype": "text/x-python",
   "name": "python",
   "nbconvert_exporter": "python",
   "pygments_lexer": "ipython3",
   "version": "3.7.6"
  }
 },
 "nbformat": 4,
 "nbformat_minor": 4
}
